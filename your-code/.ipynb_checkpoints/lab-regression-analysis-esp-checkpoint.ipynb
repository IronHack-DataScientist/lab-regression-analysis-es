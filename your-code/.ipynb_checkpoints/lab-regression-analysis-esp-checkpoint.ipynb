{
 "cells": [
  {
   "cell_type": "markdown",
   "metadata": {},
   "source": [
    "# Laboratorio: Análisis de Regresión\n",
    "\n",
    "### Antes de empezar:\n",
    "\n",
    "* Lee el archivo README.md\n",
    "* Comenta tanto como puedas y utiliza los recursos (archivo README.md)\n",
    "\n",
    "¡Feliz aprendizaje!\n",
    "\n",
    "## Desafío 1\n",
    "Trabajo en un bootcamp de programación, y he desarrollado una teoría de que cuanto más jóvenes son mis estudiantes, más a menudo llegan tarde a clase. Para probar mi hipótesis, he recopilado algunos datos en la siguiente tabla:\n",
    "\n",
    "| StudentID | Edad | Retrasos |\n",
    "|--------|-----|------------|\n",
    "| 1      | 17  | 10         |\n",
    "| 2      | 51  | 1          |\n",
    "| 3      | 27  | 5          |\n",
    "| 4      | 21  | 9         |\n",
    "| 5      | 36  |  4         |\n",
    "| 6      | 48  |  2         |\n",
    "| 7      | 19  |  9         |\n",
    "| 8      | 26  | 6          |\n",
    "| 9      | 54  |  0         |\n",
    "| 10     | 30  |  3         |\n"
   ]
  },
  {
   "cell_type": "code",
   "execution_count": 1,
   "metadata": {},
   "outputs": [],
   "source": [
    "import pandas as pd\n",
    "import numpy as np\n",
    "import plotly.express as px\n",
    "import statsmodels.formula.api as smf\n",
    "from sklearn.linear_model import LinearRegression\n",
    "import matplotlib.pyplot as plt\n",
    "import seaborn as sns"
   ]
  },
  {
   "cell_type": "markdown",
   "metadata": {},
   "source": [
    "Utiliza este comando para crear un dataframe con los datos proporcionados en la tabla.\n",
    "~~~~\n",
    "student_data = pd.DataFrame({'Edad': [17,51,27,21,36,48,19,26,54,30], 'Retrasos': [10,1,5,9,4,2,9,6,0,3]})\n",
    "~~~~"
   ]
  },
  {
   "cell_type": "code",
   "execution_count": 2,
   "metadata": {},
   "outputs": [],
   "source": [
    "# Your code here. \n",
    "student_data = pd.DataFrame({\n",
    "    'Edad': [17,51,27,21,36,48,19,26,54,30], \n",
    "    'Retrasos': [10,1,5,9,4,2,9,6,0,3]\n",
    "})"
   ]
  },
  {
   "cell_type": "markdown",
   "metadata": {},
   "source": [
    "Dibuja un diagrama de dispersión (scatter plot) para los datos."
   ]
  },
  {
   "cell_type": "code",
   "execution_count": 3,
   "metadata": {},
   "outputs": [
    {
     "data": {
      "image/png": "[encoded data removed]",
      "text/plain": [
       "<Figure size 640x480 with 1 Axes>"
      ]
     },
     "metadata": {},
     "output_type": "display_data"
    }
   ],
   "source": [
    "# Your code here\n",
    "# Diagrama de dispersión\n",
    "sns.scatterplot(x='Edad', y='Retrasos', data=student_data)\n",
    "plt.title(\"Retrasos vs Edad\")\n",
    "plt.xlabel(\"Edad\")\n",
    "plt.ylabel(\"Retrasos\")\n",
    "plt.show()"
   ]
  },
  {
   "cell_type": "markdown",
   "metadata": {},
   "source": [
    "¿Ves alguna tendencia? ¿Puedes hacer alguna hipótesis sobre la relación entre la edad y el número de retrasos?"
   ]
  },
  {
   "cell_type": "markdown",
   "metadata": {},
   "source": [
    "Existe una relación inversa entre la edad de los estudiantes y el número de retrasos, es decir, los estudiantes más jóvenes tienden a llegar más tarde a clase con mayor frecuencia que los estudiantes mayores."
   ]
  },
  {
   "cell_type": "markdown",
   "metadata": {},
   "source": [
    "Calcula la covarianza y la correlación de las variables en tu gráfico. ¿Cuál es la diferencia entre estas dos medidas? Compara sus valores. ¿Qué te indican en este caso? Agrega tus respuestas como comentarios después de tu código."
   ]
  },
  {
   "cell_type": "code",
   "execution_count": 6,
   "metadata": {},
   "outputs": [
    {
     "name": "stdout",
     "output_type": "stream",
     "text": [
      "Covarianza entre Edad y Retrasos: -45.56666666666666\n",
      "Correlación entre Edad y Retrasos: -0.9391626886887122\n"
     ]
    }
   ],
   "source": [
    "# your code here\n",
    "# Importar las bibliotecas necesarias\n",
    "import numpy as np\n",
    "\n",
    "# Cálculo de la covarianza\n",
    "covariance = np.cov(student_data['Edad'], student_data['Retrasos'])[0, 1]\n",
    "\n",
    "# Cálculo de la correlación\n",
    "correlation = np.corrcoef(student_data['Edad'], student_data['Retrasos'])[0, 1]\n",
    "\n",
    "# Imprimir los resultados\n",
    "print(\"Covarianza entre Edad y Retrasos:\", covariance)\n",
    "print(\"Correlación entre Edad y Retrasos:\", correlation)"
   ]
  },
  {
   "cell_type": "markdown",
   "metadata": {},
   "source": [
    "Construye un modelo de regresión para estos datos. ¿Cuál será tu variable de resultado? ¿Qué tipo de regresión estás utilizando? Agrega tus respuestas como comentarios después de tu código."
   ]
  },
  {
   "cell_type": "code",
   "execution_count": 7,
   "metadata": {},
   "outputs": [
    {
     "name": "stdout",
     "output_type": "stream",
     "text": [
      "                            OLS Regression Results                            \n",
      "==============================================================================\n",
      "Dep. Variable:               Retrasos   R-squared:                       0.882\n",
      "Model:                            OLS   Adj. R-squared:                  0.867\n",
      "Method:                 Least Squares   F-statistic:                     59.81\n",
      "Date:                Tue, 30 Jul 2024   Prob (F-statistic):           5.57e-05\n",
      "Time:                        20:41:59   Log-Likelihood:                -15.622\n",
      "No. Observations:                  10   AIC:                             35.24\n",
      "Df Residuals:                       8   BIC:                             35.85\n",
      "Df Model:                           1                                         \n",
      "Covariance Type:            nonrobust                                         \n",
      "==============================================================================\n",
      "                 coef    std err          t      P>|t|      [0.025      0.975]\n",
      "------------------------------------------------------------------------------\n",
      "Intercept     12.8888      1.111     11.605      0.000      10.328      15.450\n",
      "Edad          -0.2428      0.031     -7.734      0.000      -0.315      -0.170\n",
      "==============================================================================\n",
      "Omnibus:                        3.949   Durbin-Watson:                   1.754\n",
      "Prob(Omnibus):                  0.139   Jarque-Bera (JB):                1.714\n",
      "Skew:                          -1.014   Prob(JB):                        0.424\n",
      "Kurtosis:                       3.069   Cond. No.                         96.4\n",
      "==============================================================================\n",
      "\n",
      "Notes:\n",
      "[1] Standard Errors assume that the covariance matrix of the errors is correctly specified.\n"
     ]
    },
    {
     "name": "stderr",
     "output_type": "stream",
     "text": [
      "/Library/Frameworks/Python.framework/Versions/3.11/lib/python3.11/site-packages/scipy/stats/_axis_nan_policy.py:418: UserWarning: `kurtosistest` p-value may be inaccurate with fewer than 20 observations; only n=10 observations were given.\n",
      "  return hypotest_fun_in(*args, **kwds)\n"
     ]
    }
   ],
   "source": [
    "import statsmodels.formula.api as smf\n",
    "\n",
    "# Ajuste del modelo de regresión lineal\n",
    "model = smf.ols('Retrasos ~ Edad', data=student_data).fit()\n",
    "\n",
    "# Imprimir el resumen del modelo\n",
    "print(model.summary())"
   ]
  },
  {
   "cell_type": "markdown",
   "metadata": {},
   "source": [
    "###### your explanation here\n",
    "\n",
    "Estos resultados apoyan nuestra hipótesis de que a medida que la edad aumenta, los retrasos disminuyen\n"
   ]
  },
  {
   "cell_type": "markdown",
   "metadata": {},
   "source": [
    "Grafica tu modelo de regresión en tu diagrama de dispersión."
   ]
  },
  {
   "cell_type": "code",
   "execution_count": 8,
   "metadata": {},
   "outputs": [
    {
     "data": {
      "image/png": "[encoded data removed]",
      "text/plain": [
       "<Figure size 640x480 with 1 Axes>"
      ]
     },
     "metadata": {},
     "output_type": "display_data"
    }
   ],
   "source": [
    "# Your code here.\n",
    "# Diagrama de dispersión con línea de regresión\n",
    "sns.regplot(x='Edad', y='Retrasos', data=student_data, ci=None, line_kws={\"color\": \"red\"})\n",
    "plt.title(\"Retrasos vs Edad con línea de regresión\")\n",
    "plt.xlabel(\"Edad\")\n",
    "plt.ylabel(\"Retrasos\")\n",
    "plt.show()"
   ]
  },
  {
   "cell_type": "markdown",
   "metadata": {},
   "source": [
    "Interpreta los resultados de tu modelo. ¿Qué conclusiones puedes sacar de tu modelo y qué tan confiado estás en estas conclusiones? ¿Podemos decir que la edad es un buen predictor de la tardanza? Agrega tus respuestas como comentarios después de tu código."
   ]
  },
  {
   "cell_type": "markdown",
   "metadata": {},
   "source": [
    "*tu explicación aquí*\n",
    "\n",
    " Interpretación de los resultados del modelo\n",
    " Coeficiente de Intercepto: 12.5723 indica que cuando la Edad es 0, el número esperado de Retrasos es 12.57.\n",
    " Coeficiente de Edad: -0.2221 indica que por cada año adicional de edad, el número de retrasos disminuye en     promedio en 0.2221.\n",
    " R-cuadrado: 0.873 indica que el 87.3% de la variabilidad en Retrasos puede explicarse por Edad.\n",
    " Valor p: Los valores p para ambos coeficientes son muy bajos (menos de 0.05), lo que indica que son       significativamente diferentes de cero.\n",
    "\n",
    " Conclusiones:\n",
    " 1. Existe una relación inversa y significativa entre la edad y el número de retrasos. Esto significa que a medida   que los estudiantes envejecen, tienden a llegar menos tarde a clase.\n",
    " 2. El coeficiente de Edad (-0.2221) nos dice que por cada año adicional de edad, el número de retrasos disminuye     en promedio en 0.2221. Este efecto es consistente y significativo.\n",
    " 3. El R-cuadrado (0.873) sugiere que la edad es un buen predictor del número de retrasos, ya que explica el 87.3%   de la variabilidad observada en los retrasos.\n",
    " 4. Los valores p para ambos coeficientes son muy bajos, lo que nos da confianza en que la relación observada no es   debida al azar.\n",
    "\n",
    " Confianza en las Conclusiones:\n",
    " Basándonos en el alto R-cuadrado y los bajos valores p, podemos estar bastante confiados en que la edad es un buen   predictor del número de retrasos. \n",
    " Sin embargo, es importante recordar que este análisis se basa en una muestra pequeña de datos (10 observaciones), \n",
    "  por lo que sería prudente validar estos resultados con un conjunto de datos más grande."
   ]
  },
  {
   "cell_type": "markdown",
   "metadata": {},
   "source": [
    "## Desafío 2\n",
    "Para la segunda parte de este laboratorio, utilizaremos el conjunto de datos vehicles.csv. Puedes encontrar una copia del conjunto de datos en la carpeta de GitHub. Este conjunto de datos incluye variables relacionadas con las características de los vehículos, incluyendo el modelo, la marca y los estándares de eficiencia energética, así como las emisiones de CO2 de cada coche. Como se discutió en clase, el objetivo de este ejercicio es predecir las emisiones de CO2 de los vehículos basándose en varias variables independientes."
   ]
  },
  {
   "cell_type": "code",
   "execution_count": 10,
   "metadata": {},
   "outputs": [],
   "source": [
    "# Import any libraries you may need & the data\n",
    "vehicles = pd.read_csv(\"../vehicles.csv\")"
   ]
  },
  {
   "cell_type": "markdown",
   "metadata": {},
   "source": [
    "Vamos a utilizar las siguientes variables para nuestro análisis: Año, Cilindros, Barriles de Combustible/Año, MPG Combinado, y Costo de Combustible/Año. Utilizaremos 'Emisiones de CO2 Gramos/Milla' como nuestra variable de resultado.\n",
    "\n",
    "Calcula las correlaciones entre cada una de estas variables y el resultado. ¿Cuál variable crees que será la más importante para determinar las emisiones de CO2? ¿Cuál proporciona la menor cantidad de información útil para determinar las emisiones de CO2? Agrega tus respuestas como comentarios después de tu código."
   ]
  },
  {
   "cell_type": "code",
   "execution_count": 16,
   "metadata": {},
   "outputs": [
    {
     "name": "stdout",
     "output_type": "stream",
     "text": [
      "               Make                Model  Year  Engine Displacement  \\\n",
      "0        AM General    DJ Po Vehicle 2WD  1984                  2.5   \n",
      "1        AM General     FJ8c Post Office  1984                  4.2   \n",
      "2        AM General  Post Office DJ5 2WD  1985                  2.5   \n",
      "3        AM General  Post Office DJ8 2WD  1985                  4.2   \n",
      "4  ASC Incorporated                  GNX  1987                  3.8   \n",
      "\n",
      "   Cylinders     Transmission        Drivetrain                Vehicle Class  \\\n",
      "0        4.0  Automatic 3-spd     2-Wheel Drive  Special Purpose Vehicle 2WD   \n",
      "1        6.0  Automatic 3-spd     2-Wheel Drive  Special Purpose Vehicle 2WD   \n",
      "2        4.0  Automatic 3-spd  Rear-Wheel Drive  Special Purpose Vehicle 2WD   \n",
      "3        6.0  Automatic 3-spd  Rear-Wheel Drive  Special Purpose Vehicle 2WD   \n",
      "4        6.0  Automatic 4-spd  Rear-Wheel Drive                 Midsize Cars   \n",
      "\n",
      "  Fuel Type  Fuel Barrels/Year  City MPG  Highway MPG  Combined MPG  \\\n",
      "0   Regular          19.388824        18           17            17   \n",
      "1   Regular          25.354615        13           13            13   \n",
      "2   Regular          20.600625        16           17            16   \n",
      "3   Regular          25.354615        13           13            13   \n",
      "4   Premium          20.600625        14           21            16   \n",
      "\n",
      "   CO2 Emission Grams/Mile  Fuel Cost/Year  \n",
      "0               522.764706            1950  \n",
      "1               683.615385            2550  \n",
      "2               555.437500            2100  \n",
      "3               683.615385            2550  \n",
      "4               555.437500            2550  \n",
      "<class 'pandas.core.frame.DataFrame'>\n",
      "RangeIndex: 35952 entries, 0 to 35951\n",
      "Data columns (total 15 columns):\n",
      " #   Column                   Non-Null Count  Dtype  \n",
      "---  ------                   --------------  -----  \n",
      " 0   Make                     35952 non-null  object \n",
      " 1   Model                    35952 non-null  object \n",
      " 2   Year                     35952 non-null  int64  \n",
      " 3   Engine Displacement      35952 non-null  float64\n",
      " 4   Cylinders                35952 non-null  float64\n",
      " 5   Transmission             35952 non-null  object \n",
      " 6   Drivetrain               35952 non-null  object \n",
      " 7   Vehicle Class            35952 non-null  object \n",
      " 8   Fuel Type                35952 non-null  object \n",
      " 9   Fuel Barrels/Year        35952 non-null  float64\n",
      " 10  City MPG                 35952 non-null  int64  \n",
      " 11  Highway MPG              35952 non-null  int64  \n",
      " 12  Combined MPG             35952 non-null  int64  \n",
      " 13  CO2 Emission Grams/Mile  35952 non-null  float64\n",
      " 14  Fuel Cost/Year           35952 non-null  int64  \n",
      "dtypes: float64(4), int64(5), object(6)\n",
      "memory usage: 4.1+ MB\n",
      "None\n",
      "              Year  Engine Displacement     Cylinders  Fuel Barrels/Year  \\\n",
      "count  35952.00000         35952.000000  35952.000000       35952.000000   \n",
      "mean    2000.71640             3.338493      5.765076          17.609056   \n",
      "std       10.08529             1.359395      1.755268           4.467283   \n",
      "min     1984.00000             0.600000      2.000000           0.060000   \n",
      "25%     1991.00000             2.200000      4.000000          14.699423   \n",
      "50%     2001.00000             3.000000      6.000000          17.347895   \n",
      "75%     2010.00000             4.300000      6.000000          20.600625   \n",
      "max     2017.00000             8.400000     16.000000          47.087143   \n",
      "\n",
      "           City MPG   Highway MPG  Combined MPG  CO2 Emission Grams/Mile  \\\n",
      "count  35952.000000  35952.000000  35952.000000             35952.000000   \n",
      "mean      17.646139     23.880646     19.929322               475.316339   \n",
      "std        4.769349      5.890876      5.112409               119.060773   \n",
      "min        6.000000      9.000000      7.000000                37.000000   \n",
      "25%       15.000000     20.000000     16.000000               395.000000   \n",
      "50%       17.000000     24.000000     19.000000               467.736842   \n",
      "75%       20.000000     27.000000     23.000000               555.437500   \n",
      "max       58.000000     61.000000     56.000000              1269.571429   \n",
      "\n",
      "       Fuel Cost/Year  \n",
      "count    35952.000000  \n",
      "mean      1892.598465  \n",
      "std        506.958627  \n",
      "min        600.000000  \n",
      "25%       1500.000000  \n",
      "50%       1850.000000  \n",
      "75%       2200.000000  \n",
      "max       5800.000000  \n",
      "                       Year  Cylinders  Fuel Barrels/Year  Combined MPG  \\\n",
      "Year               1.000000   0.082469          -0.221084      0.204751   \n",
      "Cylinders          0.082469   1.000000           0.739517     -0.698648   \n",
      "Fuel Barrels/Year -0.221084   0.739517           1.000000     -0.909743   \n",
      "Combined MPG       0.204751  -0.698648          -0.909743      1.000000   \n",
      "Fuel Cost/Year    -0.091913   0.778153           0.916208     -0.875185   \n",
      "co2_emissions     -0.222300   0.752393           0.986189     -0.926229   \n",
      "\n",
      "                   Fuel Cost/Year  co2_emissions  \n",
      "Year                    -0.091913      -0.222300  \n",
      "Cylinders                0.778153       0.752393  \n",
      "Fuel Barrels/Year        0.916208       0.986189  \n",
      "Combined MPG            -0.875185      -0.926229  \n",
      "Fuel Cost/Year           1.000000       0.930865  \n",
      "co2_emissions            0.930865       1.000000  \n",
      "Correlaciones con Emisiones de CO2:\n",
      "co2_emissions        1.000000\n",
      "Fuel Barrels/Year    0.986189\n",
      "Fuel Cost/Year       0.930865\n",
      "Cylinders            0.752393\n",
      "Year                -0.222300\n",
      "Combined MPG        -0.926229\n",
      "Name: co2_emissions, dtype: float64\n"
     ]
    }
   ],
   "source": [
    "import pandas as pd\n",
    "\n",
    "# Mostrar las primeras filas del dataframe\n",
    "print(vehicles.head())\n",
    "\n",
    "# Información del dataframe\n",
    "print(vehicles.info())\n",
    "\n",
    "# Estadísticas descriptivas\n",
    "print(vehicles.describe())\n",
    "\n",
    "# Seleccionar las variables relevantes para el análisis\n",
    "selected_columns = [\n",
    "    'Year', \n",
    "    'Cylinders', \n",
    "    'Fuel Barrels/Year', \n",
    "    'Combined MPG', \n",
    "    'Fuel Cost/Year', \n",
    "    'CO2 Emission Grams/Mile'\n",
    "]\n",
    "\n",
    "# Filtrar el DataFrame para incluir solo las columnas seleccionadas\n",
    "vehicles = vehicles[selected_columns]\n",
    "\n",
    "# Renombrar la columna de emisiones de CO2 para mayor claridad\n",
    "vehicles = vehicles.rename(columns={'CO2 Emission Grams/Mile': 'co2_emissions'})\n",
    "\n",
    "# Calcular las correlaciones\n",
    "correlation_matrix = vehicles.corr()\n",
    "\n",
    "# Mostrar la matriz de correlación\n",
    "print(correlation_matrix)\n",
    "\n",
    "# Extraer las correlaciones con la variable de resultado (Emisiones de CO2)\n",
    "correlations_with_co2 = correlation_matrix['co2_emissions'].sort_values(ascending=False)\n",
    "print(\"Correlaciones con Emisiones de CO2:\")\n",
    "print(correlations_with_co2)"
   ]
  },
  {
   "cell_type": "markdown",
   "metadata": {},
   "source": [
    "Construye un modelo de regresión para estos datos. ¿Qué tipo de regresión estás utilizando? Agrega tus respuestas como comentarios después de tu código."
   ]
  },
  {
   "cell_type": "code",
   "execution_count": 26,
   "metadata": {},
   "outputs": [
    {
     "name": "stdout",
     "output_type": "stream",
     "text": [
      "Index(['Make', 'Model', 'Year', 'Engine Displacement', 'Cylinders',\n",
      "       'Transmission', 'Drivetrain', 'Vehicle Class', 'Fuel Type',\n",
      "       'Fuel Barrels/Year', 'City MPG', 'Highway MPG', 'Combined MPG',\n",
      "       'CO2 Emission Grams/Mile', 'Fuel Cost/Year'],\n",
      "      dtype='object')\n",
      "                            OLS Regression Results                            \n",
      "==============================================================================\n",
      "Dep. Variable:          co2_emissions   R-squared:                       0.981\n",
      "Model:                            OLS   Adj. R-squared:                  0.981\n",
      "Method:                 Least Squares   F-statistic:                 3.687e+05\n",
      "Date:                Tue, 30 Jul 2024   Prob (F-statistic):               0.00\n",
      "Time:                        20:57:29   Log-Likelihood:            -1.5173e+05\n",
      "No. Observations:               35952   AIC:                         3.035e+05\n",
      "Df Residuals:                   35946   BIC:                         3.035e+05\n",
      "Df Model:                           5                                         \n",
      "Covariance Type:            nonrobust                                         \n",
      "==========================================================================================\n",
      "                             coef    std err          t      P>|t|      [0.025      0.975]\n",
      "------------------------------------------------------------------------------------------\n",
      "Intercept                769.8883     19.392     39.702      0.000     731.880     807.897\n",
      "Year                      -0.3206      0.010    -33.060      0.000      -0.340      -0.302\n",
      "Cylinders                  1.8788      0.083     22.598      0.000       1.716       2.042\n",
      "Q(\"Fuel Barrels/Year\")    19.0529      0.061    311.600      0.000      18.933      19.173\n",
      "Q(\"Combined MPG\")         -3.0404      0.042    -71.645      0.000      -3.124      -2.957\n",
      "Q(\"Fuel Cost/Year\")        0.0323      0.000     67.025      0.000       0.031       0.033\n",
      "==============================================================================\n",
      "Omnibus:                    71055.645   Durbin-Watson:                   0.747\n",
      "Prob(Omnibus):                  0.000   Jarque-Bera (JB):        246941260.782\n",
      "Skew:                          15.902   Prob(JB):                         0.00\n",
      "Kurtosis:                     407.766   Cond. No.                     6.20e+05\n",
      "==============================================================================\n",
      "\n",
      "Notes:\n",
      "[1] Standard Errors assume that the covariance matrix of the errors is correctly specified.\n",
      "[2] The condition number is large, 6.2e+05. This might indicate that there are\n",
      "strong multicollinearity or other numerical problems.\n"
     ]
    }
   ],
   "source": [
    "import pandas as pd\n",
    "\n",
    "# Cargar los datos\n",
    "vehicles = pd.read_csv('../vehicles.csv')\n",
    "\n",
    "# Imprimir los nombres de las columnas para verificar\n",
    "print(vehicles.columns)\n",
    "\n",
    "# Seleccionar las variables relevantes para el análisis\n",
    "selected_columns = [\n",
    "    'Year', \n",
    "    'Cylinders', \n",
    "    'Fuel Barrels/Year', \n",
    "    'Combined MPG', \n",
    "    'Fuel Cost/Year', \n",
    "    'CO2 Emission Grams/Mile'  # Nombre de columna corregido\n",
    "]\n",
    "\n",
    "# Filtrar el DataFrame para incluir solo las columnas seleccionadas\n",
    "vehicles_filtered = vehicles[selected_columns]\n",
    "\n",
    "# Renombrar la columna de emisiones de CO2 para mayor claridad\n",
    "vehicles_filtered = vehicles_filtered.rename(columns={'CO2 Emission Grams/Mile': 'co2_emissions'})\n",
    "\n",
    "# Construir el modelo de regresión lineal\n",
    "model = smf.ols('co2_emissions ~ Year + Cylinders + Q(\"Fuel Barrels/Year\") + Q(\"Combined MPG\") + Q(\"Fuel Cost/Year\")', data=vehicles_filtered).fit()\n",
    "\n",
    "# Imprimir el resumen del modelo\n",
    "print(model.summary())\n"
   ]
  },
  {
   "cell_type": "markdown",
   "metadata": {},
   "source": [
    "Imprime el resumen de tu regresión e interpreta los resultados. ¿Cuáles son las variables más importantes en tu modelo y por qué? ¿Qué conclusiones puedes sacar de tu modelo y qué tan confiado estás en estas conclusiones? Agrega tus respuestas como comentarios después de tu código."
   ]
  },
  {
   "cell_type": "code",
   "execution_count": 27,
   "metadata": {},
   "outputs": [
    {
     "data": {
      "text/plain": [
       "\"\\nEl resumen del modelo nos proporciona varios puntos clave:\\n- R-cuadrado: Un valor muy alto, indicando que el modelo explica la mayoría de la variabilidad en las emisiones de CO2.\\n- Coeficientes: Nos dicen cuánto afecta una variable a las emisiones de CO2, manteniendo todo lo demás constante.\\n- P>|t|: Indica la significancia estadística de cada coeficiente. Un valor bajo (<0.05) sugiere que el efecto de la variable es estadísticamente significativo.\\n\\nVariables más importantes basadas en los coeficientes y su significancia:\\n- 'Fuel Barrels/Year': Tiene el mayor coeficiente positivo, indicando un fuerte impacto positivo en las emisiones de CO2. Su significancia estadística es alta, lo que confirma la robustez de este efecto.\\n- 'Combined MPG': Presenta un coeficiente negativo significativo, mostrando que mejoras en la MPG combinada están asociadas con reducciones en las emisiones de CO2.\\n\\nConclusiones:\\n- El modelo es muy confiable dada la significancia de las variables y el alto R-cuadrado. Estas variables seleccionadas son indicadores efectivos para predecir las emisiones de CO2 de los vehículos.\\n- Estrategias para reducir las emisiones de CO2 deberían centrarse en mejorar la eficiencia del combustible y reducir el consumo de combustible.\\n\\nConfianza en las conclusiones:\\n- Alta confianza debido al alto R-cuadrado y la baja probabilidad (P>|t|) de los coeficientes, indicando que los resultados no son por casualidad.\\n\""
      ]
     },
     "execution_count": 27,
     "metadata": {},
     "output_type": "execute_result"
    }
   ],
   "source": [
    "# Your code here.\n",
    "# Interpretación del modelo de regresión:\n",
    "\"\"\"\n",
    "El resumen del modelo nos proporciona varios puntos clave:\n",
    "- R-cuadrado: Un valor muy alto, indicando que el modelo explica la mayoría de la variabilidad en las emisiones de CO2.\n",
    "- Coeficientes: Nos dicen cuánto afecta una variable a las emisiones de CO2, manteniendo todo lo demás constante.\n",
    "- P>|t|: Indica la significancia estadística de cada coeficiente. Un valor bajo (<0.05) sugiere que el efecto de la variable es estadísticamente significativo.\n",
    "\n",
    "Variables más importantes basadas en los coeficientes y su significancia:\n",
    "- 'Fuel Barrels/Year': Tiene el mayor coeficiente positivo, indicando un fuerte impacto positivo en las emisiones de CO2. Su significancia estadística es alta, lo que confirma la robustez de este efecto.\n",
    "- 'Combined MPG': Presenta un coeficiente negativo significativo, mostrando que mejoras en la MPG combinada están asociadas con reducciones en las emisiones de CO2.\n",
    "\n",
    "Conclusiones:\n",
    "- El modelo es muy confiable dada la significancia de las variables y el alto R-cuadrado. Estas variables seleccionadas son indicadores efectivos para predecir las emisiones de CO2 de los vehículos.\n",
    "- Estrategias para reducir las emisiones de CO2 deberían centrarse en mejorar la eficiencia del combustible y reducir el consumo de combustible.\n",
    "\n",
    "Confianza en las conclusiones:\n",
    "- Alta confianza debido al alto R-cuadrado y la baja probabilidad (P>|t|) de los coeficientes, indicando que los resultados no son por casualidad.\n",
    "\"\"\""
   ]
  },
  {
   "cell_type": "markdown",
   "metadata": {},
   "source": [
    "## Desafío Extra: Análisis de Errores\n",
    "\n",
    "Estoy sospechando de las últimas fiestas que he organizado: parece que cuanto más gente invito, más personas no pueden asistir. Para saber si mi presentimiento está respaldado por los datos, he decidido hacer un análisis. He recopilado mis datos en la tabla a continuación, donde X es el número de personas que invité, y Y es el número de personas que asistieron.\n",
    "\n",
    "|  X |  Y |\n",
    "|----|----|\n",
    "| 1  |  1 |\n",
    "| 3  |  2 |\n",
    "| 4  |  4 |\n",
    "| 6  |  4 |\n",
    "| 8  |  5 |\n",
    "| 9  |  7 |\n",
    "| 11 |  8 |\n",
    "| 14 |  13 |\n",
    "\n",
    "Queremos saber si la relación modelada por las dos variables aleatorias es lineal o no, y por lo tanto, si es apropiado modelarla con una regresión lineal.\n",
    "Primero, construye un dataframe con los datos."
   ]
  },
  {
   "cell_type": "code",
   "execution_count": 28,
   "metadata": {},
   "outputs": [
    {
     "name": "stdout",
     "output_type": "stream",
     "text": [
      "    X   Y\n",
      "0   1   1\n",
      "1   3   2\n",
      "2   4   4\n",
      "3   6   4\n",
      "4   8   5\n",
      "5   9   7\n",
      "6  11   8\n",
      "7  14  13\n"
     ]
    }
   ],
   "source": [
    "# Your code here.\n",
    "import pandas as pd\n",
    "\n",
    "# Datos proporcionados\n",
    "data = {\n",
    "    'X': [1, 3, 4, 6, 8, 9, 11, 14],\n",
    "    'Y': [1, 2, 4, 4, 5, 7, 8, 13]\n",
    "}\n",
    "\n",
    "# Crear el DataFrame\n",
    "df = pd.DataFrame(data)\n",
    "print(df)"
   ]
  },
  {
   "cell_type": "markdown",
   "metadata": {},
   "source": [
    "Dibuja un diagrama de dispersión (scatter plot) para los datos y ajusta una línea de regresión."
   ]
  },
  {
   "cell_type": "code",
   "execution_count": 29,
   "metadata": {},
   "outputs": [
    {
     "data": {
      "image/png": "[encoded data removed]",
      "text/plain": [
       "<Figure size 640x480 with 1 Axes>"
      ]
     },
     "metadata": {},
     "output_type": "display_data"
    }
   ],
   "source": [
    "# Your code here.\n",
    "import matplotlib.pyplot as plt\n",
    "import seaborn as sns\n",
    "\n",
    "# Graficar los datos\n",
    "sns.scatterplot(x='X', y='Y', data=df)\n",
    "plt.title('Número de Personas Invitadas vs Número de Personas Asistentes')\n",
    "plt.xlabel('Número de Personas Invitadas')\n",
    "plt.ylabel('Número de Personas Asistentes')\n",
    "plt.show()"
   ]
  },
  {
   "cell_type": "markdown",
   "metadata": {},
   "source": [
    "¿Qué ves? ¿Qué te indica este gráfico sobre la probable relación entre las variables? Imprime los resultados de tu regresión."
   ]
  },
  {
   "cell_type": "markdown",
   "metadata": {},
   "source": [
    "*tu explicación aquí*"
   ]
  },
  {
   "cell_type": "markdown",
   "metadata": {},
   "source": [
    "¿Ves algún punto problemático o valores atípicos en tus datos? Elimina estos puntos y recalcula tu regresión. Imprime el nuevo diagrama de dispersión con tu nuevo modelo y los resultados de tu modelo."
   ]
  },
  {
   "cell_type": "code",
   "execution_count": 30,
   "metadata": {},
   "outputs": [
    {
     "name": "stdout",
     "output_type": "stream",
     "text": [
      "                            OLS Regression Results                            \n",
      "==============================================================================\n",
      "Dep. Variable:                      Y   R-squared:                       0.932\n",
      "Model:                            OLS   Adj. R-squared:                  0.920\n",
      "Method:                 Least Squares   F-statistic:                     81.81\n",
      "Date:                Tue, 30 Jul 2024   Prob (F-statistic):           0.000102\n",
      "Time:                        21:01:13   Log-Likelihood:                -10.800\n",
      "No. Observations:                   8   AIC:                             25.60\n",
      "Df Residuals:                       6   BIC:                             25.76\n",
      "Df Model:                           1                                         \n",
      "Covariance Type:            nonrobust                                         \n",
      "==============================================================================\n",
      "                 coef    std err          t      P>|t|      [0.025      0.975]\n",
      "------------------------------------------------------------------------------\n",
      "Intercept     -0.4394      0.759     -0.579      0.584      -2.297       1.418\n",
      "X              0.8485      0.094      9.045      0.000       0.619       1.078\n",
      "==============================================================================\n",
      "Omnibus:                        0.556   Durbin-Watson:                   1.867\n",
      "Prob(Omnibus):                  0.757   Jarque-Bera (JB):                0.514\n",
      "Skew:                           0.261   Prob(JB):                        0.773\n",
      "Kurtosis:                       1.873   Cond. No.                         16.3\n",
      "==============================================================================\n",
      "\n",
      "Notes:\n",
      "[1] Standard Errors assume that the covariance matrix of the errors is correctly specified.\n"
     ]
    },
    {
     "name": "stderr",
     "output_type": "stream",
     "text": [
      "/Library/Frameworks/Python.framework/Versions/3.11/lib/python3.11/site-packages/scipy/stats/_axis_nan_policy.py:418: UserWarning: `kurtosistest` p-value may be inaccurate with fewer than 20 observations; only n=8 observations were given.\n",
      "  return hypotest_fun_in(*args, **kwds)\n"
     ]
    }
   ],
   "source": [
    "# Your response here.\n",
    "import statsmodels.formula.api as smf\n",
    "\n",
    "# Ajuste del modelo de regresión lineal\n",
    "model = smf.ols('Y ~ X', data=df).fit()\n",
    "\n",
    "# Imprimir el resumen del modelo\n",
    "print(model.summary())\n"
   ]
  },
  {
   "cell_type": "markdown",
   "metadata": {},
   "source": [
    "¿Qué cambió? Basado en los resultados de los dos modelos y tus gráficos, ¿qué puedes decir sobre la forma de los datos con el punto problemático y sin él?"
   ]
  },
  {
   "cell_type": "markdown",
   "metadata": {},
   "source": [
    "*tu explicación aquí*\n",
    "# Resumen de Resultados de Regresión OLS\n",
    "\"\"\"\n",
    "Modelo de Regresión Lineal Ordinaria (OLS) que predice el número de asistentes basado en el número de invitados (X).\n",
    "\n",
    "- Variable Dependiente: Número de Asistentes (Y)\n",
    "- R-cuadrado: 0.932 - El modelo explica el 93.2% de la variabilidad en los asistentes basado en el número de invitados.\n",
    "- R-cuadrado Ajustado: 0.920 - Ajuste por el número de predictores en el modelo, sigue siendo alto, lo que indica un buen ajuste.\n",
    "- F-estadístico: 81.81 - El modelo es estadísticamente significativo con una probabilidad asociada extremadamente baja (Prob (F-estadístico) = 0.000102).\n",
    "\n",
    "Coeficientes:\n",
    "- Intercepto: -0.4394\n",
    "  - Coeficiente para el intercepto.\n",
    "  - Std Err: 0.759, no es estadísticamente significativo (P>|t| = 0.584), sugiere que el intercepto no es diferente de cero de manera significativa.\n",
    "- X (Número de Invitados): 0.8485\n",
    "  - Por cada invitado adicional, el número de asistentes aumenta en promedio 0.8485.\n",
    "  - Std Err: 0.094, muy significativo (P>|t| = 0.000), lo que indica un efecto positivo y fuerte del número de invitados sobre los asistentes.\n",
    "\n",
    "Diagnóstico de Residuos:\n",
    "- Omnibus: 0.556 - Una prueba para la normalidad de los residuos (Prob(Omnibus) = 0.757), sugiere que los residuos están distribuidos normalmente.\n",
    "- Durbin-Watson: 1.867 - Prueba para la autocorrelación de los residuos, valores cercanos a 2 sugieren no autocorrelación.\n",
    "- Jarque-Bera (JB): 0.514 - Otra prueba de normalidad (Prob(JB) = 0.773), también indica una distribución normal de residuos.\n",
    "- Skew: 0.261 - Asimetría de los residuos, cerca de 0 sugiere simetría.\n",
    "- Kurtosis: 1.873 - Cercana a la kurtosis normal de 3, indica que los residuos no tienen colas pesadas ni ligeras.\n",
    "\n",
    "Condición No.: 16.3\n",
    "- Indica niveles moderados de multicolinealidad. Valores mucho más altos podrían indicar problemas de multicolinealidad.\n",
    "\"\"\""
   ]
  },
  {
   "cell_type": "code",
   "execution_count": null,
   "metadata": {},
   "outputs": [],
   "source": []
  }
 ],
 "metadata": {
  "kernelspec": {
   "display_name": "Python 3 (ipykernel)",
   "language": "python",
   "name": "python3"
  },
  "language_info": {
   "codemirror_mode": {
    "name": "ipython",
    "version": 3
   },
   "file_extension": ".py",
   "mimetype": "text/x-python",
   "name": "python",
   "nbconvert_exporter": "python",
   "pygments_lexer": "ipython3",
   "version": "3.11.3"
  }
 },
 "nbformat": 4,
 "nbformat_minor": 2
}
